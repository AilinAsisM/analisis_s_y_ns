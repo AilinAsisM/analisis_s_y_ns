{
 "cells": [
  {
   "cell_type": "markdown",
   "metadata": {},
   "source": [
    "# Introducción al A-A\n",
    "**Todo ejercicio debe tener un análisis fundamentado en la teoría vista en la materia, dicho análisis sera parte del informe a entregar en pdf**\n",
    "\n",
    "<span style=\"color:blue\">*Se recomienda hacer uso de las herramientas vistas en el lab 1 y lab 2 del práctico de la materia.*</span>"
   ]
  },
  {
   "cell_type": "markdown",
   "metadata": {},
   "source": [
    "**Objetivos:** \n",
    "- Implementar los modelos vistos en clase tanŧo de regresión como de claificación sobre el data set de galaxias \n",
    "- Comparar la performance y seleccionar el mejor modelo "
   ]
  },
  {
   "cell_type": "markdown",
   "metadata": {},
   "source": [
    "# Paquetes necesarios "
   ]
  },
  {
   "cell_type": "code",
   "execution_count": 146,
   "metadata": {},
   "outputs": [],
   "source": [
    "# Fijar la semilla"
   ]
  },
  {
   "cell_type": "markdown",
   "metadata": {},
   "source": [
    "# Data set\n",
    "\n",
    "Se hará uso del dataset curado en el anterior práctico remplazando el redshift (z) por distancia luminosidad (**distancia_L**) y agregando la magnitud absoluta (**Mag_abs**).\n",
    "\n",
    "La distancia Luminosidad es calculada a partir del redshift  y la magnitud absoluta es calculada a partir de la distancia luminosidad y la modelMag_r\n",
    "\n",
    "- **distancia_L**: Es la distancia a la galaxia, su calculo hace uso del brillo de la galaxia\n",
    "- **Mag_abs**: Es el brillo que tendría la galaxia a una distancia fija (10 Mpc)\n",
    "- **objID**: Es el id de las galaxias\n",
    "- **rac y dec** = Posición angular, rac de 0 a 360 y dec de -90 a 90\n",
    "- **modelMag_u,modelMag_g, modelMag_r,modelMag_i,modelMag_z**= Estas variables representan una fracción de la luz total que observamos de las galaxias según su frecuencia (como por ejemplo, la frecuencia de radio, para más información [wiki](https://es.wikipedia.org/wiki/Espectro_visible))\n",
    "- **petroR90_r** = Es una medida del tamaño de la galaxia\n",
    "- **color**= Como su nombre lo indica es el color más predominante en la galaxia\n",
    "- **elíptica, espiral, irregular**= Estas columnas identifican el tipo de morfología de las galaxias. Si el valor de una de estas tres columnas es 1, entonces la galaxia tiene esa morfología y las dos restantes tendrán el valor 0. \n"
   ]
  },
  {
   "cell_type": "code",
   "execution_count": 150,
   "metadata": {},
   "outputs": [
    {
     "data": {
      "text/html": [
       "<div>\n",
       "<style scoped>\n",
       "    .dataframe tbody tr th:only-of-type {\n",
       "        vertical-align: middle;\n",
       "    }\n",
       "\n",
       "    .dataframe tbody tr th {\n",
       "        vertical-align: top;\n",
       "    }\n",
       "\n",
       "    .dataframe thead th {\n",
       "        text-align: right;\n",
       "    }\n",
       "</style>\n",
       "<table border=\"1\" class=\"dataframe\">\n",
       "  <thead>\n",
       "    <tr style=\"text-align: right;\">\n",
       "      <th></th>\n",
       "      <th>ra</th>\n",
       "      <th>dec</th>\n",
       "      <th>modelMag_u</th>\n",
       "      <th>modelMag_g</th>\n",
       "      <th>modelMag_r</th>\n",
       "      <th>modelMag_i</th>\n",
       "      <th>modelMag_z</th>\n",
       "      <th>petroR90_r</th>\n",
       "      <th>Color</th>\n",
       "      <th>elliptical</th>\n",
       "      <th>spiral</th>\n",
       "      <th>uncertain</th>\n",
       "      <th>distancia_L</th>\n",
       "      <th>Mag_abs</th>\n",
       "    </tr>\n",
       "    <tr>\n",
       "      <th>objID</th>\n",
       "      <th></th>\n",
       "      <th></th>\n",
       "      <th></th>\n",
       "      <th></th>\n",
       "      <th></th>\n",
       "      <th></th>\n",
       "      <th></th>\n",
       "      <th></th>\n",
       "      <th></th>\n",
       "      <th></th>\n",
       "      <th></th>\n",
       "      <th></th>\n",
       "      <th></th>\n",
       "      <th></th>\n",
       "    </tr>\n",
       "  </thead>\n",
       "  <tbody>\n",
       "    <tr>\n",
       "      <th>1.237674e+18</th>\n",
       "      <td>119.822479</td>\n",
       "      <td>42.008528</td>\n",
       "      <td>17.36539</td>\n",
       "      <td>15.46586</td>\n",
       "      <td>14.54658</td>\n",
       "      <td>14.07490</td>\n",
       "      <td>13.69937</td>\n",
       "      <td>18.121160</td>\n",
       "      <td>-2.818807</td>\n",
       "      <td>1.0</td>\n",
       "      <td>0.0</td>\n",
       "      <td>0.0</td>\n",
       "      <td>135.131916</td>\n",
       "      <td>-21.191136</td>\n",
       "    </tr>\n",
       "    <tr>\n",
       "      <th>1.237674e+18</th>\n",
       "      <td>118.185239</td>\n",
       "      <td>33.699089</td>\n",
       "      <td>19.95136</td>\n",
       "      <td>18.35397</td>\n",
       "      <td>17.54043</td>\n",
       "      <td>17.05026</td>\n",
       "      <td>16.71222</td>\n",
       "      <td>3.657189</td>\n",
       "      <td>-2.410933</td>\n",
       "      <td>0.0</td>\n",
       "      <td>0.0</td>\n",
       "      <td>1.0</td>\n",
       "      <td>153.893111</td>\n",
       "      <td>-18.473102</td>\n",
       "    </tr>\n",
       "  </tbody>\n",
       "</table>\n",
       "</div>"
      ],
      "text/plain": [
       "                      ra        dec  modelMag_u  modelMag_g  modelMag_r  \\\n",
       "objID                                                                     \n",
       "1.237674e+18  119.822479  42.008528    17.36539    15.46586    14.54658   \n",
       "1.237674e+18  118.185239  33.699089    19.95136    18.35397    17.54043   \n",
       "\n",
       "              modelMag_i  modelMag_z  petroR90_r     Color  elliptical  \\\n",
       "objID                                                                    \n",
       "1.237674e+18    14.07490    13.69937   18.121160 -2.818807         1.0   \n",
       "1.237674e+18    17.05026    16.71222    3.657189 -2.410933         0.0   \n",
       "\n",
       "              spiral  uncertain  distancia_L    Mag_abs  \n",
       "objID                                                    \n",
       "1.237674e+18     0.0        0.0   135.131916 -21.191136  \n",
       "1.237674e+18     0.0        1.0   153.893111 -18.473102  "
      ]
     },
     "metadata": {},
     "output_type": "display_data"
    },
    {
     "data": {
      "text/plain": [
       "(32623, 14)"
      ]
     },
     "metadata": {},
     "output_type": "display_data"
    },
    {
     "data": {
      "text/plain": [
       "'distribución de las variables físicas de las galaxias'"
      ]
     },
     "metadata": {},
     "output_type": "display_data"
    },
    {
     "data": {
      "text/plain": [
       "array([[<matplotlib.axes._subplots.AxesSubplot object at 0x7fae9e1c3710>,\n",
       "        <matplotlib.axes._subplots.AxesSubplot object at 0x7fae9e163cc0>,\n",
       "        <matplotlib.axes._subplots.AxesSubplot object at 0x7fae9ddbc780>,\n",
       "        <matplotlib.axes._subplots.AxesSubplot object at 0x7faea0d5b2b0>],\n",
       "       [<matplotlib.axes._subplots.AxesSubplot object at 0x7faea0d6e198>,\n",
       "        <matplotlib.axes._subplots.AxesSubplot object at 0x7fae9ddb1198>,\n",
       "        <matplotlib.axes._subplots.AxesSubplot object at 0x7fae9dfc54a8>,\n",
       "        <matplotlib.axes._subplots.AxesSubplot object at 0x7faea0ce7a58>],\n",
       "       [<matplotlib.axes._subplots.AxesSubplot object at 0x7fae9de79358>,\n",
       "        <matplotlib.axes._subplots.AxesSubplot object at 0x7fae8b739358>,\n",
       "        <matplotlib.axes._subplots.AxesSubplot object at 0x7fae9e16b080>,\n",
       "        <matplotlib.axes._subplots.AxesSubplot object at 0x7faea106b630>],\n",
       "       [<matplotlib.axes._subplots.AxesSubplot object at 0x7fae9de6bf98>,\n",
       "        <matplotlib.axes._subplots.AxesSubplot object at 0x7fae8b7469e8>,\n",
       "        <matplotlib.axes._subplots.AxesSubplot object at 0x7fae9ec6a898>,\n",
       "        <matplotlib.axes._subplots.AxesSubplot object at 0x7faea0d7d1d0>]],\n",
       "      dtype=object)"
      ]
     },
     "metadata": {},
     "output_type": "display_data"
    },
    {
     "data": {
      "image/png": "[encoded data removed]",
      "text/plain": [
       "<Figure size 720x576 with 16 Axes>"
      ]
     },
     "metadata": {},
     "output_type": "display_data"
    }
   ],
   "source": [
    "dataset=pd.read_csv('galaxias_2.csv',index_col=['objID'])\n",
    "display(dataset.head(2))\n",
    "display(dataset.shape)\n",
    "display('distribución de las variables físicas de las galaxias')\n",
    "display(dataset.hist())"
   ]
  },
  {
   "cell_type": "markdown",
   "metadata": {},
   "source": [
    "# Regresión \n"
   ]
  },
  {
   "cell_type": "markdown",
   "metadata": {},
   "source": [
    "Existe una relación empírica entre el radio efectivo (petro petroR90_r) y la magnitud absoluta para galaxias  (datos de Bender et al. 1992, ApJ., 399, 462)\n",
    "\n",
    "Por lo tanto, el valor a predecir sera  **Mag_abs** la cual está contenida en un intervalo real de tamaño ~ 9mag, el atributo a usar sera el logaritmo en base diez de la variable **petroR90_r**.\n",
    "\n",
    "Detallar los pasos realizados (split, fit, metrica..) en el uso de el algoritmo de Regresión lineal con y sin regularización.\n",
    "\n",
    "Responda:\n",
    "- Que significa el error cuadrático?\n",
    "- Que unidades tiene?\n",
    "- Es necesaria la regularización?\n",
    "- Es bueno valor obtenido en la métrica?\n",
    "- Que pasa si se distingue por tipo de galaxia?"
   ]
  },
  {
   "cell_type": "markdown",
   "metadata": {},
   "source": [
    "# Clasificación "
   ]
  },
  {
   "cell_type": "markdown",
   "metadata": {},
   "source": [
    "## Clasificación binaria \n",
    "\n",
    "Haga uso de los atributos petroR90_r, Color y Mag_abs para clasificar en  elípticas y espirales.\n",
    "Use los siguientes modelos:\n",
    "    - Perceptrón\n",
    "    - Regresión logística\n",
    "    - Vecinos más cercanos\n",
    "Para cada uno de ellos muestre:\n",
    "        - Matriz de confusión\n",
    "        - Visualización de la frontera de decisión"
   ]
  },
  {
   "cell_type": "markdown",
   "metadata": {},
   "source": [
    "## Clasificación multiclase\n",
    "Haga uso de los atributos petroR90_r, Color y Mag_abs para clasificar en elípticas, espirales e irregulares.\n",
    "Use los siguientes modelos:\n",
    "    - SGDClassifier con y sin Ajuste de Hiperparámetros\n",
    "    - Árbol de Decisión con y sin Ajuste de Hiperparámetros\n",
    "Para cada uno de ellos muestre:\n",
    "        - Accuracy\n",
    "        - Precision\n",
    "        - Recall\n",
    "        - F1\n",
    "        - matriz de confusión\n",
    "\n",
    "        "
   ]
  },
  {
   "cell_type": "markdown",
   "metadata": {},
   "source": [
    "Responda: \n",
    "- Que métrica es la más apropiadad a usar en este problema de clasificación?"
   ]
  },
  {
   "cell_type": "code",
   "execution_count": null,
   "metadata": {},
   "outputs": [],
   "source": []
  }
 ],
 "metadata": {
  "kernelspec": {
   "display_name": "Python [conda env:diplodatos-ayv]",
   "language": "python",
   "name": "conda-env-diplodatos-ayv-py"
  },
  "language_info": {
   "codemirror_mode": {
    "name": "ipython",
    "version": 3
   },
   "file_extension": ".py",
   "mimetype": "text/x-python",
   "name": "python",
   "nbconvert_exporter": "python",
   "pygments_lexer": "ipython3",
   "version": "3.5.5"
  }
 },
 "nbformat": 4,
 "nbformat_minor": 2
}
