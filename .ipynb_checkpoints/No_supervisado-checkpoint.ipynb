{
 "cells": [
  {
   "cell_type": "markdown",
   "metadata": {},
   "source": [
    "# <p style=\"text-align:center;\"> No supervizado </p>"
   ]
  },
  {
   "cell_type": "markdown",
   "metadata": {},
   "source": [
    "**Todo ejercicio debe tener un análisis fundamentado en la teoría vista en la materia, dicho análisis sera parte del informe a entregar en pdf**\n",
    "\n",
    "- <span style=\"color:blue\">*Se recomienda hacer uso de las herramientas vistas en los demos de la materia.*</span>\n",
    "\n",
    "- <span style=\"color:red\">**Usar lo hecho en el práctico Análisis Exploratorio y Curación de Datos**.</span>\n"
   ]
  },
  {
   "cell_type": "markdown",
   "metadata": {},
   "source": [
    "**Objetivos:** \n",
    "- Implementar modelos de clustering, variando el número de clusters.\n",
    "- Usar embeddings:  PCA, correlación y t-distributed stochastic neighbor."
   ]
  },
  {
   "cell_type": "markdown",
   "metadata": {},
   "source": [
    "Implementar dos modelos de clustering con y sin embeddings uno de ellos k-means."
   ]
  },
  {
   "cell_type": "markdown",
   "metadata": {},
   "source": [
    "Realizar un análisis de lo obtenido. \n",
    "- Es muy recomendable integrar indicadores de mala calidad como por ejemplo \"hay un cluster muy grande y el resto son muy chicos\", lo cual indica que en el espacio no se distinguen bien grupos separados y hay que usar otro espacio \n",
    "- Evaluar con Silohuette y pureza con algunos datos etiquetados."
   ]
  },
  {
   "cell_type": "code",
   "execution_count": null,
   "metadata": {},
   "outputs": [],
   "source": []
  },
  {
   "cell_type": "markdown",
   "metadata": {},
   "source": [
    "**NOTA:** Es de suma importancia usar el conocimiento del experto en este práctico. "
   ]
  }
 ],
 "metadata": {
  "kernelspec": {
   "display_name": "Python [conda env:diplodatos-ayv]",
   "language": "python",
   "name": "conda-env-diplodatos-ayv-py"
  },
  "language_info": {
   "codemirror_mode": {
    "name": "ipython",
    "version": 3
   },
   "file_extension": ".py",
   "mimetype": "text/x-python",
   "name": "python",
   "nbconvert_exporter": "python",
   "pygments_lexer": "ipython3",
   "version": "3.5.5"
  }
 },
 "nbformat": 4,
 "nbformat_minor": 2
}
