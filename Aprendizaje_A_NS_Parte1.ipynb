{
 "cells": [
  {
   "cell_type": "markdown",
   "metadata": {},
   "source": [
    "# <p style=\"text-align:center;\"> No supervizado </p>"
   ]
  },
  {
   "cell_type": "markdown",
   "metadata": {},
   "source": [
    "**Todo ejercicio debe tener un análisis fundamentado en la teoría vista en la materia, dicho análisis sera parte del informe a entregar en pdf**\n",
    "\n",
    "- <span style=\"color:blue\">*Se recomienda hacer uso de las herramientas vistas en los demos de la materia.*</span>\n",
    "\n",
    "- <span style=\"color:red\">**Usar lo hecho en el práctico Análisis Exploratorio y Curación de Datos**.</span>\n"
   ]
  },
  {
   "cell_type": "markdown",
   "metadata": {},
   "source": [
    "**Objetivos:** \n",
    "- Implementar modelos de clustering, variando el número de clusters.\n",
    "- Usar embeddings:  PCA, correlación y t-distributed stochastic neighbor."
   ]
  },
  {
   "cell_type": "markdown",
   "metadata": {},
   "source": [
    "Implementar dos modelos de clustering con y sin embeddings uno de ellos k-means."
   ]
  },
  {
   "cell_type": "markdown",
   "metadata": {},
   "source": [
    "Realizar un análisis de lo obtenido. \n",
    "- Es muy recomendable integrar indicadores de mala calidad como por ejemplo \"hay un cluster muy grande y el resto son muy chicos\", lo cual indica que en el espacio no se distinguen bien grupos separados y hay que usar otro espacio \n",
    "- Evaluar con Silohuette y pureza con algunos datos etiquetados."
   ]
  },
  {
   "cell_type": "markdown",
   "metadata": {},
   "source": [
    "**Librerías**"
   ]
  },
  {
   "cell_type": "code",
   "execution_count": null,
   "metadata": {},
   "outputs": [],
   "source": [
    "import numpy as np\n",
    "import matplotlib.pyplot as plt\n",
    "import matplotlib.cm as cm\n",
    "import seaborn as sns\n",
    "import pandas as pd\n",
    "\n",
    "\n",
    "from sklearn.cluster import KMeans\n",
    "from sklearn.metrics import silhouette_samples, silhouette_score\n",
    "from sklearn.preprocessing import StandardScaler\n",
    "\n",
    "from sklearn.model_selection import StratifiedShuffleSplit\n",
    "\n",
    "%matplotlib inline"
   ]
  },
  {
   "cell_type": "code",
   "execution_count": null,
   "metadata": {},
   "outputs": [],
   "source": [
    "plt.rcParams['figure.figsize'] = (10.0, 8.0)"
   ]
  },
  {
   "cell_type": "markdown",
   "metadata": {},
   "source": [
    "**Funciones**"
   ]
  },
  {
   "cell_type": "code",
   "execution_count": null,
   "metadata": {},
   "outputs": [],
   "source": [
    "def galaxy_morf(row):\n",
    "    if row[\"elliptical\"]:\n",
    "        return \"E\"\n",
    "    elif row[\"spiral\"]:\n",
    "        return \"S\"\n",
    "    else:\n",
    "        return \"I\"\n",
    "    \n",
    "def distribution_per_type(df, col_name=\"\", bins=20):\n",
    "    #]plt.title(f\"{col_name.capitalize()} Distribution\")\n",
    "    sns.distplot(df[df[\"elliptical\"] == 1][col_name],label=\"elliptical\", bins=bins)\n",
    "    sns.distplot(df[df[\"spiral\"] == 1][col_name],label=\"spiral\", bins=bins)\n",
    "    sns.distplot(df[df[\"uncertain\"] == 1][col_name],label=\"irregular\", bins=bins)\n",
    "    plt.legend()\n",
    "    \n",
    "def exploratory_plots(df, col_name=\"\"):\n",
    "    plt.subplot(3, 1, 1)\n",
    "    distribution_per_type(df, col_name)\n",
    "    plt.subplot(3, 1, 2)\n",
    "    #plt.title(f\"{col_name.capitalize()} Boxplot\")\n",
    "    sns.boxplot(x=\"type\", y=col_name, data=df, **box_params)\n",
    "    plt.subplot(3, 1, 3)\n",
    "   # plt.title(f\"{col_name.capitalize()} Boxplot w/o Outliers\")\n",
    "    sns.boxplot(x=\"type\", y=col_name, data=df, showfliers=False, **box_params)\n",
    "    \n",
    "    plt.tight_layout()\n",
    "    \n",
    "def num_type(row):\n",
    "    if row[\"type\"] == \"I\":\n",
    "        return 1\n",
    "    elif row[\"type\"] == \"S\":\n",
    "        return 2\n",
    "    else:\n",
    "        return 3\n",
    "\n",
    "def plot_silouette(silhouette_values, cluster_labels, silhouette_avg, \n",
    "                   title=\"Visualizacion de los datos\"):\n",
    "    fig, ax1 = plt.subplots(1, 1)\n",
    "    y_lower = 10\n",
    "    n_clusters = len(np.unique(cluster_labels))\n",
    "    for i in np.unique(cluster_labels):\n",
    "        # Aggregate the silhouette scores for samples belonging to\n",
    "        # cluster i, and sort them\n",
    "        ith_cluster_silhouette_values = silhouette_values[cluster_labels == i]\n",
    "        ith_cluster_silhouette_values.sort()\n",
    "        size_cluster_i = ith_cluster_silhouette_values.shape[0]\n",
    "        y_upper = y_lower + size_cluster_i\n",
    "        color   = cm.nipy_spectral(float(i) / n_clusters)\n",
    "        ax1.fill_betweenx(np.arange(y_lower, y_upper),\n",
    "                          0, ith_cluster_silhouette_values,\n",
    "                          facecolor=color, edgecolor=color, alpha=0.7)\n",
    "\n",
    "        # Label the silhouette plots with their cluster numbers at the middle\n",
    "        ax1.text(-0.05, y_lower + 0.5 * size_cluster_i, str(i))\n",
    "\n",
    "        # Compute the new y_lower for next plot\n",
    "        y_lower = y_upper + 10  # 10 for the 0 samples\n",
    "\n",
    "    ax1.set_title(title)\n",
    "    # ax1.set_xlabel(\"espacio de la primera caracteristica\")\n",
    "    # ax1.set_ylabel(\"espacio de la segunda caracteristica\")\n",
    "\n",
    "    # The vertical line for average silhouette score of all the values\n",
    "    ax1.axvline(x=silhouette_avg, color=\"red\", linestyle=\"--\")\n",
    "\n",
    "    ax1.set_yticks([])  # Clear the yaxis labels / ticks\n",
    "    ax1.set_xticks([-0.1, 0, 0.2, 0.4, 0.6, 0.8, 1])\n",
    "    plt.show()"
   ]
  },
  {
   "cell_type": "markdown",
   "metadata": {},
   "source": [
    "<span style=\"color:red\">**Comente el preprocesado y curación que ha realizado sobre los datos fotometricos y morfologicos crudos**</span>  \n",
    "\n",
    "<span style=\"color:red\">**Cargue el dataset correspondiente a los datos fotometricos y morfologicos de las galaxias pre-procesado y curado.**</span>  \n"
   ]
  },
  {
   "cell_type": "markdown",
   "metadata": {},
   "source": [
    "**Load**"
   ]
  },
  {
   "cell_type": "code",
   "execution_count": null,
   "metadata": {},
   "outputs": [],
   "source": [
    "data = pd.read_csv('galaxias_2.csv')\n",
    "\n",
    "# Clases\n",
    "data[\"type\"] = data.apply(galaxy_morf, axis=1)\n",
    "\n",
    "\n",
    "# variable Númerica**\n",
    "\n",
    "data[\"type_n\"] = data.apply(num_type, axis=1)\n",
    "\n",
    "\n",
    "display(data.head(2))\n",
    "display (data.shape)\n",
    "data.describe()"
   ]
  },
  {
   "cell_type": "markdown",
   "metadata": {},
   "source": [
    "# Clustering"
   ]
  },
  {
   "cell_type": "markdown",
   "metadata": {},
   "source": [
    "## Muestra Estratificada"
   ]
  },
  {
   "cell_type": "code",
   "execution_count": null,
   "metadata": {},
   "outputs": [],
   "source": [
    "sss = StratifiedShuffleSplit(n_splits=1, test_size=0.2, random_state=2411)"
   ]
  },
  {
   "cell_type": "code",
   "execution_count": null,
   "metadata": {},
   "outputs": [],
   "source": [
    "for train_idx, test_idx in sss.split(data, data[\"type_n\"]):\n",
    "    #strat_train_set = data_cl.loc[train_idx]\n",
    "    strat_test_set  = data.iloc[test_idx]"
   ]
  },
  {
   "cell_type": "markdown",
   "metadata": {},
   "source": [
    "Análisis sin variables de ubicación y tipo"
   ]
  },
  {
   "cell_type": "code",
   "execution_count": null,
   "metadata": {},
   "outputs": [],
   "source": [
    "type_cols      = ['elliptical', 'spiral', 'uncertain', 'type', 'type_n']\n",
    "\n",
    "# escalar\n",
    "data_clus      = strat_test_set.drop(type_cols, axis=1)\n",
    "data_clus_cols = data_clus.columns\n",
    "data_clus      = pd.DataFrame(data=StandardScaler().fit_transform(data_clus), \n",
    "                             columns=data_clus_cols)\n",
    "\n",
    "data_clus"
   ]
  },
  {
   "cell_type": "markdown",
   "metadata": {},
   "source": [
    "### K-Means"
   ]
  },
  {
   "cell_type": "code",
   "execution_count": null,
   "metadata": {},
   "outputs": [],
   "source": [
    "range_n_clusters = [2, 3, 4]\n",
    "\n",
    "def serch_k_optimus(data_clus, range_n_clusters):\n",
    "    sse = {}\n",
    "    for n_clusters in range_n_clusters:\n",
    "        \n",
    "        clusterer = KMeans(n_clusters=n_clusters, random_state=10)\n",
    "        \n",
    "        # \"Start fitting\"\n",
    "        cluster_labels = clusterer.fit_predict(data_clus)\n",
    "        \n",
    "        # \"Stop fitting\"\n",
    "        sse[n_clusters] = clusterer.inertia_\n",
    "\n",
    "        # The silhouette_score gives the average value for all the samples.\n",
    "        # This gives a perspective into the density and separation of the formed\n",
    "        # clusters\n",
    "        silhouette_avg = silhouette_score(data_clus, cluster_labels, random_state=352)\n",
    "        print(\"Para n_clusters =\", n_clusters,\n",
    "              \"El silhouette_score promedio es :\", silhouette_avg)\n",
    "\n",
    "        \n",
    "        # Compute the silhouette scores for each sample\n",
    "        sample_silhouette_values = silhouette_samples(data_clus, cluster_labels)\n",
    "\n",
    "        plot_silouette(sample_silhouette_values, cluster_labels,\n",
    "                       silhouette_avg, title=\"k={}\".format(n_clusters))\n",
    "    return sse\n"
   ]
  },
  {
   "cell_type": "code",
   "execution_count": null,
   "metadata": {},
   "outputs": [],
   "source": [
    "sse = serch_k_optimus(data_clus, range_n_clusters)"
   ]
  },
  {
   "cell_type": "code",
   "execution_count": null,
   "metadata": {},
   "outputs": [],
   "source": [
    "fig, ax1 = plt.subplots(1, 1)\n",
    "fig.set_size_inches(18, 7)\n",
    "plt.suptitle((\"Metodo del codo para kmedias \"),\n",
    "                 fontsize=14, fontweight='bold')\n",
    "ax1.plot(list(sse.keys()), list(sse.values()))\n",
    "ax1.set_xlabel(\"Numero of cluster\")\n",
    "ax1.set_ylabel(\"Inercia\")\n",
    "plt.grid()"
   ]
  },
  {
   "cell_type": "markdown",
   "metadata": {},
   "source": [
    "<span style=\"color:red\">**Responda:**</span>\n",
    "\n",
    "<span style=\"color:red\">**Explique brevemente cual es el objetivo de aplicar el metodo k-means y las siluetas**</span>  \n",
    "\n",
    "<span style=\"color:red\">**Qué pueden decir en general de las siluetas para cada k?**</span>  \n",
    "\n",
    "<span style=\"color:red\">**Qué  pueden decir acarca del score cuando incrementa el número de clusters?**</span> \n",
    "\n",
    "\n",
    "\n",
    "<span style=\"color:red\">**Según el método del codo más el análisis de las siluetas, que número de clusters es el mejor?**</span> "
   ]
  },
  {
   "cell_type": "markdown",
   "metadata": {},
   "source": [
    "### <span style=\"color:red\">**Elija el número de clusters K en función de su anális**</span> "
   ]
  },
  {
   "cell_type": "code",
   "execution_count": null,
   "metadata": {},
   "outputs": [],
   "source": [
    "K=\n",
    "cluster_K = KMeans(n_clusters=K, random_state=10)\n",
    "cluster_labels_K = cluster_K.fit_predict(data_clus)\n",
    "\n",
    "data_clus[\"cluster_label\"] = cluster_labels_K"
   ]
  },
  {
   "cell_type": "markdown",
   "metadata": {},
   "source": [
    "## Visualizacion segun cluster label"
   ]
  },
  {
   "cell_type": "code",
   "execution_count": null,
   "metadata": {},
   "outputs": [],
   "source": [
    "def distribution_per_label(df, col_name=\"\", bins=20):\n",
    "    plt.title(f'{col_name.capitalize()} Distribution')\n",
    "    for kk in df[\"cluster_label\"].unique():\n",
    "        sns.distplot(df[df[\"cluster_label\"] == kk][col_name],label=f'cluster_label={kk}', \n",
    "                     bins=bins)\n",
    "    plt.legend()\n",
    "    \n",
    "def exploratory_plots_label(df, col_name=\"\"):\n",
    "    plt.subplot(2, 1, 1)\n",
    "    distribution_per_label(df, col_name)\n",
    "    plt.subplot(2, 1, 2)\n",
    "    #plt.title(f\"{col_name.capitalize()} Boxplot w/o Outliers\")\n",
    "    sns.boxplot(x=\"cluster_label\", y=col_name, data=df, showfliers=False)\n",
    "    \n",
    "    plt.tight_layout()"
   ]
  },
  {
   "cell_type": "markdown",
   "metadata": {},
   "source": [
    "### Color"
   ]
  },
  {
   "cell_type": "code",
   "execution_count": null,
   "metadata": {},
   "outputs": [],
   "source": [
    "exploratory_plots_label(data_clus, \"Color\")"
   ]
  },
  {
   "cell_type": "markdown",
   "metadata": {},
   "source": [
    "### Petro R90"
   ]
  },
  {
   "cell_type": "code",
   "execution_count": null,
   "metadata": {},
   "outputs": [],
   "source": [
    "exploratory_plots_label(data_clus, \"petroR90_r\")"
   ]
  },
  {
   "cell_type": "markdown",
   "metadata": {},
   "source": [
    "### Mag Distributions"
   ]
  },
  {
   "cell_type": "code",
   "execution_count": null,
   "metadata": {},
   "outputs": [],
   "source": [
    "for mag in ['modelMag_u', 'modelMag_g', 'modelMag_r', 'modelMag_i','modelMag_z']:\n",
    "    plt.figure()\n",
    "    exploratory_plots_label(data_clus, mag)"
   ]
  },
  {
   "cell_type": "markdown",
   "metadata": {},
   "source": [
    "<span style=\"color:red\">**Que puede decir de los anteriores gráficos?**</span>  "
   ]
  },
  {
   "cell_type": "code",
   "execution_count": null,
   "metadata": {},
   "outputs": [],
   "source": []
  },
  {
   "cell_type": "markdown",
   "metadata": {},
   "source": [
    "<span style=\"color:red\">**Con el número de clusters elegidos (k) elejido implemente los siguientes embeddings**</span> "
   ]
  },
  {
   "cell_type": "code",
   "execution_count": null,
   "metadata": {},
   "outputs": [],
   "source": [
    "data_clus_N = data_clus\n",
    "data_clus_N.columns"
   ]
  },
  {
   "cell_type": "markdown",
   "metadata": {},
   "source": [
    "# Embeddings"
   ]
  },
  {
   "cell_type": "code",
   "execution_count": null,
   "metadata": {},
   "outputs": [],
   "source": [
    "from sklearn.decomposition import PCA\n",
    "from sklearn.manifold import TSNE"
   ]
  },
  {
   "cell_type": "code",
   "execution_count": null,
   "metadata": {},
   "outputs": [],
   "source": [
    "def print_title(title=\"\", delimiter=\"*\"):\n",
    "    print(delimiter*80)\n",
    "    print(title)\n",
    "    print(delimiter*80)"
   ]
  },
  {
   "cell_type": "code",
   "execution_count": null,
   "metadata": {},
   "outputs": [],
   "source": [
    "def plot_3d(pca, df, colname=\"\"):\n",
    "    from mpl_toolkits.mplot3d import Axes3D \n",
    "    fig = plt.figure(figsize=(15, 10))\n",
    "    for idx in range(1, 5):\n",
    "        ax = fig.add_subplot(2,2,idx, projection='3d')\n",
    "        im = ax.scatter(pca[:,0], pca[:,1], pca[:,2], \n",
    "               c = df[colname], cmap=plt.get_cmap(\"jet\"),\n",
    "                        alpha=0.5)\n",
    "        ax.view_init(30, 45+90*idx)\n",
    "        ax.set_xlabel(\"Axis 1\")\n",
    "        ax.set_ylabel(\"Axis 2\")\n",
    "        ax.set_zlabel(\"Axis 3\")\n",
    "        fig.colorbar(im, ax=ax)"
   ]
  },
  {
   "cell_type": "code",
   "execution_count": null,
   "metadata": {},
   "outputs": [],
   "source": [
    "def plot_2d(pca, df, colname=\"\"):\n",
    "    from mpl_toolkits.mplot3d import Axes3D \n",
    "    fig = plt.figure(figsize=(15,10))\n",
    "    ax = fig.add_subplot(1,1,1)\n",
    "    im = ax.scatter(pca[:,0],pca[:,1],\n",
    "                    c=df[colname],cmap=plt.get_cmap(\"jet\"),\n",
    "                    alpha=0.5)\n",
    "    ax.set_xlabel(\"Axis 1\")\n",
    "    ax.set_ylabel(\"Axis 2\")\n",
    "    fig.colorbar(im, ax=ax)"
   ]
  },
  {
   "cell_type": "markdown",
   "metadata": {},
   "source": [
    "## PCA"
   ]
  },
  {
   "cell_type": "code",
   "execution_count": null,
   "metadata": {},
   "outputs": [],
   "source": [
    "pca_3dim = PCA(n_components=3)\n",
    "pca_2dim = PCA(n_components=2)\n",
    "\n",
    "\n",
    "pca_std_3d = pca_3dim.fit_transform(data_clus_N)\n",
    "pca_std_2d = pca_2dim.fit_transform(data_clus_N)\n"
   ]
  },
  {
   "cell_type": "code",
   "execution_count": null,
   "metadata": {},
   "outputs": [],
   "source": [
    "print_title(\"3D\")\n",
    "print(\"nombre_modelo\", pca_3dim.explained_variance_ratio_, sum(pca_3dim.explained_variance_ratio_))\n",
    "\n",
    "print_title(\"2D\")\n",
    "print(\"nombre_modelo\", pca_2dim.explained_variance_ratio_, sum(pca_2dim.explained_variance_ratio_))\n"
   ]
  },
  {
   "cell_type": "code",
   "execution_count": null,
   "metadata": {},
   "outputs": [],
   "source": [
    "axis_components = pd.DataFrame(index=data_clus.columns, columns=[\"Ax1\", \"Ax2\", \"Ax3\"], \n",
    "                                  data=pca_3dim.components_.T)"
   ]
  },
  {
   "cell_type": "code",
   "execution_count": null,
   "metadata": {},
   "outputs": [],
   "source": [
    "plot_3d(pca_std_3d, data_clus_N, \"cluster_label\")"
   ]
  },
  {
   "cell_type": "code",
   "execution_count": null,
   "metadata": {},
   "outputs": [],
   "source": [
    "plot_2d(pca_std_2d, data_clus_N, \"cluster_label\")"
   ]
  },
  {
   "cell_type": "markdown",
   "metadata": {},
   "source": [
    "## TSNE"
   ]
  },
  {
   "cell_type": "code",
   "execution_count": null,
   "metadata": {},
   "outputs": [],
   "source": [
    "tsne_2dim = TSNE(n_components=2, )\n",
    "tsne_std = tsne_2dim.fit_transform(data_clus_N)"
   ]
  },
  {
   "cell_type": "code",
   "execution_count": null,
   "metadata": {},
   "outputs": [],
   "source": [
    "plot_2d(tsne_std, data_clus_N, \"cluster_label\")"
   ]
  },
  {
   "cell_type": "markdown",
   "metadata": {},
   "source": [
    "<span style=\"color:red\">**Qué pueden concluir?**</span>  "
   ]
  }
 ],
 "metadata": {
  "kernelspec": {
   "display_name": "Python 3",
   "language": "python",
   "name": "python3"
  },
  "language_info": {
   "codemirror_mode": {
    "name": "ipython",
    "version": 3
   },
   "file_extension": ".py",
   "mimetype": "text/x-python",
   "name": "python",
   "nbconvert_exporter": "python",
   "pygments_lexer": "ipython3",
   "version": "3.8.3"
  }
 },
 "nbformat": 4,
 "nbformat_minor": 4
}
